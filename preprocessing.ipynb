{
 "cells": [
  {
   "cell_type": "code",
   "execution_count": 1,
   "id": "17165f49",
   "metadata": {
    "id": "9a7891ca"
   },
   "outputs": [],
   "source": [
    "from pyspark.sql import SparkSession\n",
    "from pyspark.sql.avro.functions import from_avro, to_avro\n",
    "from pyspark.sql.functions import *\n",
    "from pyspark.sql.types import *\n",
    "import json\n",
    "from pyspark.ml import Pipeline,PipelineModel"
   ]
  },
  {
   "cell_type": "code",
   "execution_count": 2,
   "id": "09fc9a01",
   "metadata": {},
   "outputs": [
    {
     "name": "stderr",
     "output_type": "stream",
     "text": [
      "Ivy Default Cache set to: /root/.ivy2/cache\n",
      "The jars for the packages stored in: /root/.ivy2/jars\n",
      ":: loading settings :: url = jar:file:/usr/local/lib/python3.7/dist-packages/pyspark/jars/ivy-2.4.0.jar!/org/apache/ivy/core/settings/ivysettings.xml\n",
      "org.apache.spark#spark-sql-kafka-0-10_2.12 added as a dependency\n",
      "org.apache.spark#spark-avro_2.12 added as a dependency\n",
      ":: resolving dependencies :: org.apache.spark#spark-submit-parent-3a19a85e-382f-449a-9213-271917f69a33;1.0\n",
      "\tconfs: [default]\n",
      "\tfound org.apache.spark#spark-sql-kafka-0-10_2.12;3.0.0 in central\n",
      "\tfound org.apache.spark#spark-token-provider-kafka-0-10_2.12;3.0.0 in central\n",
      "\tfound org.apache.kafka#kafka-clients;2.4.1 in central\n",
      "\tfound com.github.luben#zstd-jni;1.4.4-3 in central\n",
      "\tfound org.lz4#lz4-java;1.7.1 in central\n",
      "\tfound org.xerial.snappy#snappy-java;1.1.7.5 in central\n",
      "\tfound org.slf4j#slf4j-api;1.7.30 in central\n",
      "\tfound org.spark-project.spark#unused;1.0.0 in central\n",
      "\tfound org.apache.commons#commons-pool2;2.6.2 in central\n",
      "\tfound org.apache.spark#spark-avro_2.12;3.0.0 in central\n",
      ":: resolution report :: resolve 420ms :: artifacts dl 7ms\n",
      "\t:: modules in use:\n",
      "\tcom.github.luben#zstd-jni;1.4.4-3 from central in [default]\n",
      "\torg.apache.commons#commons-pool2;2.6.2 from central in [default]\n",
      "\torg.apache.kafka#kafka-clients;2.4.1 from central in [default]\n",
      "\torg.apache.spark#spark-avro_2.12;3.0.0 from central in [default]\n",
      "\torg.apache.spark#spark-sql-kafka-0-10_2.12;3.0.0 from central in [default]\n",
      "\torg.apache.spark#spark-token-provider-kafka-0-10_2.12;3.0.0 from central in [default]\n",
      "\torg.lz4#lz4-java;1.7.1 from central in [default]\n",
      "\torg.slf4j#slf4j-api;1.7.30 from central in [default]\n",
      "\torg.spark-project.spark#unused;1.0.0 from central in [default]\n",
      "\torg.xerial.snappy#snappy-java;1.1.7.5 from central in [default]\n",
      "\t---------------------------------------------------------------------\n",
      "\t|                  |            modules            ||   artifacts   |\n",
      "\t|       conf       | number| search|dwnlded|evicted|| number|dwnlded|\n",
      "\t---------------------------------------------------------------------\n",
      "\t|      default     |   10  |   0   |   0   |   0   ||   10  |   0   |\n",
      "\t---------------------------------------------------------------------\n",
      ":: retrieving :: org.apache.spark#spark-submit-parent-3a19a85e-382f-449a-9213-271917f69a33\n",
      "\tconfs: [default]\n",
      "\t0 artifacts copied, 10 already retrieved (0kB/8ms)\n",
      "24/12/08 15:21:55 WARN NativeCodeLoader: Unable to load native-hadoop library for your platform... using builtin-java classes where applicable\n",
      "Using Spark's default log4j profile: org/apache/spark/log4j-defaults.properties\n",
      "Setting default log level to \"WARN\".\n",
      "To adjust logging level use sc.setLogLevel(newLevel). For SparkR, use setLogLevel(newLevel).\n",
      "24/12/08 15:21:57 WARN Utils: Service 'SparkUI' could not bind on port 4040. Attempting port 4041.\n"
     ]
    }
   ],
   "source": [
    "#Spark Session creation configured to interact with Kfka and MongoDB\n",
    "spark = SparkSession.builder.appName(\"pyspark-notebook\").\\\n",
    "config(\"spark.jars.packages\",\"org.apache.spark:spark-sql-kafka-0-10_2.12:3.0.0,org.apache.spark:spark-avro_2.12:3.0.0\").\\\n",
    "getOrCreate()"
   ]
  },
  {
   "cell_type": "code",
   "execution_count": 3,
   "id": "cca37676",
   "metadata": {},
   "outputs": [],
   "source": [
    "#Read schema file and create schema of string type\n",
    "json_schema = ''\n",
    "with open(\"Text-generate/schema/out/blackfriday.json\") as f:\n",
    "    new_schema = StructType.fromJson(json.load(f))\n",
    "    json_schema = new_schema.simpleString()"
   ]
  },
  {
   "cell_type": "code",
   "execution_count": 4,
   "id": "36414b06",
   "metadata": {},
   "outputs": [],
   "source": [
    "#Read data from Kafka topic\n",
    "json_tweets = spark\\\n",
    "  .readStream\\\n",
    "  .format(\"kafka\")\\\n",
    "  .option(\"kafka.bootstrap.servers\", \"192.168.56.1:9092\")\\\n",
    "  .option(\"subscribe\", \"blackfriday\")\\\n",
    "  .option(\"startingOffsets\", \"earliest\")\\\n",
    "  .option(\"failOnDataLoss\", \"false\") \\\n",
    "  .load()\\\n",
    "  .selectExpr(\"CAST(key AS STRING)\", \"CAST(value AS STRING)\")"
   ]
  },
  {
   "cell_type": "code",
   "execution_count": 5,
   "id": "db3241ef",
   "metadata": {},
   "outputs": [
    {
     "name": "stderr",
     "output_type": "stream",
     "text": [
      "24/12/08 15:22:05 WARN package: Truncated the string representation of a plan since it was too large. This behavior can be adjusted by setting 'spark.sql.debug.maxToStringFields'.\n"
     ]
    }
   ],
   "source": [
    "#Refine raw data red from Kafka topic\n",
    "refined_tweets = json_tweets\\\n",
    "        .select(from_json(\"value\", json_schema)\\\n",
    "        .alias(\"data\"))\\\n",
    "        .where(\"data.language='en'and data.creation_date is not null and data.text is not null\")\\\n",
    "        .select(\"data.text\",\n",
    "                from_unixtime(col(\"data.timestamp\")/1000,'yyyy-MM-dd HH:mm:ss').alias(\"timestamp\")) #Translate milliseconds to UTC timestamp\n",
    "refined_tweets = refined_tweets.withColumn('text', regexp_replace('text', r'http\\S+', ''))\n",
    "refined_tweets = refined_tweets.withColumn('text', regexp_replace('text', '@\\w+', ''))\n",
    "refined_tweets = refined_tweets.withColumn('text', regexp_replace('text', '#', ''))\n",
    "refined_tweets = refined_tweets.withColumn('text', regexp_replace('text', 'RT', ''))\n",
    "refined_tweets = refined_tweets.withColumn('text', regexp_replace('text', ':', ''))"
   ]
  },
  {
   "cell_type": "code",
   "execution_count": null,
   "id": "8282fc1b",
   "metadata": {
    "id": "e8d5d1e0"
   },
   "outputs": [],
   "source": [
    "# Xuất dữ liệu refined_tweets thành file text\n",
    "query = refined_tweets.select(\"text\").writeStream \\\n",
    "    .format(\"text\") \\\n",
    "    .option(\"path\", \"Text-generate/output/tweets_txt\") \\\n",
    "    .option(\"checkpointLocation\", \"Text-generate/output/checkpoints_txt\") \\\n",
    "    .start()\n",
    "\n",
    "# Đợi luồng dữ liệu kết thúc (tùy chọn, có thể để chạy song song)\n",
    "query.awaitTermination()\n"
   ]
  },
  {
   "cell_type": "code",
   "execution_count": 9,
   "id": "7bd40d1a",
   "metadata": {},
   "outputs": [
    {
     "name": "stdout",
     "output_type": "stream",
     "text": [
      "Black Friday 50% OFF SALE ends Midnight Sunday PST 💥💥💥  \n",
      "Black Friday Weekend Sale\n",
      "ENDS TODAY 8th DECEMBER\n",
      "\n",
      "20% discount off all Sale items. \n",
      "\n",
      "\n",
      "\n",
      "MHHSBD \n",
      "Starting Wednesday 11.23 our first ever BLACK FRIDAY SALE. With up to 70% off sitewide. Sign up now for early access  \n",
      "Black Friday Sale Time!\n",
      "\n",
      "Is on until 28 Nov 22~ Link below!~ \n",
      "Black Friday Weekend Sale\n",
      "ENDS TODAY 8th DECEMBER\n",
      "\n",
      "20% discount off all Sale items. \n",
      "\n",
      "\n",
      "\n",
      "MHHSBD \n",
      "BLACK FRIDAY SALE IS LIVE🦋 up to 40% off worldwide !!!\n",
      "\n",
      " \n",
      "65% Off Blac\n"
     ]
    }
   ],
   "source": [
    "# Đọc dữ liệu từ tệp .txt\n",
    "with open('Text-generate/output/tweets_txt/outputdata.txt', 'r') as file:\n",
    "    text_data = file.read()\n",
    "\n",
    "# Kiểm tra một vài dòng\n",
    "print(text_data[:500])  # In 500 ký tự đầu tiên\n"
   ]
  },
  {
   "cell_type": "code",
   "execution_count": null,
   "id": "30faf6bc",
   "metadata": {},
   "outputs": [],
   "source": []
  }
 ],
 "metadata": {
  "colab": {
   "name": "streamlistener.ipynb",
   "provenance": []
  },
  "kernelspec": {
   "display_name": "Python 3 (ipykernel)",
   "language": "python",
   "name": "python3"
  },
  "language_info": {
   "codemirror_mode": {
    "name": "ipython",
    "version": 3
   },
   "file_extension": ".py",
   "mimetype": "text/x-python",
   "name": "python",
   "nbconvert_exporter": "python",
   "pygments_lexer": "ipython3",
   "version": "3.7.3"
  }
 },
 "nbformat": 4,
 "nbformat_minor": 5
}
